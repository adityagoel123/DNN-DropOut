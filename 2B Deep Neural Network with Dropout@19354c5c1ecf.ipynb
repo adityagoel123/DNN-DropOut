{
 "cells": [
  {
   "cell_type": "markdown",
   "metadata": {},
   "source": [
    "# Deep Neural Network with Dropout using Keras"
   ]
  },
  {
   "cell_type": "code",
   "execution_count": 1,
   "metadata": {},
   "outputs": [],
   "source": [
    "import tensorflow as tf\n",
    "\n",
    "from tensorflow.keras import models\n",
    "from tensorflow.keras import layers\n",
    "\n",
    "\n",
    "import random\n",
    "import numpy as np"
   ]
  },
  {
   "cell_type": "code",
   "execution_count": 2,
   "metadata": {},
   "outputs": [],
   "source": [
    "random.seed(42)         # Initialize the random number generator.\n",
    "np.random.seed(42)      # With the seed reset, the same set of numbers will appear every time. \n",
    "tf.set_random_seed(42)  # sets the graph-level random seed"
   ]
  },
  {
   "cell_type": "markdown",
   "metadata": {},
   "source": [
    "## Dataset"
   ]
  },
  {
   "cell_type": "code",
   "execution_count": 3,
   "metadata": {},
   "outputs": [],
   "source": [
    "# Use the MNIST dataset  of Keras.\n",
    "\n",
    "mnist = tf.keras.datasets.mnist\n",
    "\n",
    "(Xtrain, Ytrain) , (Xtest, Ytest) = mnist.load_data()"
   ]
  },
  {
   "cell_type": "code",
   "execution_count": 4,
   "metadata": {},
   "outputs": [],
   "source": [
    "# Normalize the data\n",
    "# 60000 input images are in the train set.\n",
    "# 10000 input images are in the test set.\n",
    "\n",
    "Xtrain = Xtrain.reshape((60000, 28*28))    # reshape the input set to size 28*28. \n",
    "Xtrain = Xtrain.astype('float32')/255      # normalize to grayscale; set datatype as float32\n",
    "\n",
    "Xtest = Xtest.reshape((10000, 28*28))      # reshape the input set to size 28*28. \n",
    "Xtest = Xtest.astype('float32')/255        # normalize to grayscale; set datatype as float32\n",
    "\n",
    "Ytrain = tf.keras.utils.to_categorical(Ytrain)\n",
    "Ytest = tf.keras.utils.to_categorical(Ytest)"
   ]
  },
  {
   "cell_type": "markdown",
   "metadata": {},
   "source": [
    "## DNN Model"
   ]
  },
  {
   "cell_type": "markdown",
   "metadata": {},
   "source": [
    "Using Keras, create the DNN or Sequential Model"
   ]
  },
  {
   "cell_type": "code",
   "execution_count": 5,
   "metadata": {},
   "outputs": [],
   "source": [
    "# Create a model object\n",
    "\n",
    "dnnModel = models.Sequential()"
   ]
  },
  {
   "cell_type": "markdown",
   "metadata": {},
   "source": [
    "Add dense layers, specifying the number of units in each layer and the activation function used in the layer."
   ]
  },
  {
   "cell_type": "code",
   "execution_count": 6,
   "metadata": {},
   "outputs": [
    {
     "name": "stdout",
     "output_type": "stream",
     "text": [
      "WARNING:tensorflow:From C:\\Anaconda3\\lib\\site-packages\\tensorflow\\python\\ops\\init_ops.py:1251: calling VarianceScaling.__init__ (from tensorflow.python.ops.init_ops) with dtype is deprecated and will be removed in a future version.\n",
      "Instructions for updating:\n",
      "Call initializer instance with the dtype argument instead of passing it to the constructor\n",
      "Model: \"sequential\"\n",
      "_________________________________________________________________\n",
      "Layer (type)                 Output Shape              Param #   \n",
      "=================================================================\n",
      "dense (Dense)                (None, 50)                39250     \n",
      "_________________________________________________________________\n",
      "dense_1 (Dense)              (None, 60)                3060      \n",
      "_________________________________________________________________\n",
      "dropout (Dropout)            (None, 60)                0         \n",
      "_________________________________________________________________\n",
      "dense_2 (Dense)              (None, 30)                1830      \n",
      "_________________________________________________________________\n",
      "dropout_1 (Dropout)          (None, 30)                0         \n",
      "_________________________________________________________________\n",
      "dense_3 (Dense)              (None, 10)                310       \n",
      "=================================================================\n",
      "Total params: 44,450\n",
      "Trainable params: 44,450\n",
      "Non-trainable params: 0\n",
      "_________________________________________________________________\n"
     ]
    }
   ],
   "source": [
    "# Layer 1 = input layer\n",
    "# specify the input size for in the first layer.\n",
    "\n",
    "dnnModel.add(layers.Dense(50, activation='relu', input_shape= (28*28,)))\n",
    "\n",
    "\n",
    "# Layer 2 = hidden layer \n",
    "dnnModel.add(layers.Dense(60, activation='relu'))\n",
    "\n",
    "# Add dropout of 50% to layer 2\n",
    "dnnModel.add(layers.Dropout(0.5))\n",
    "\n",
    "# Layer 3 = hidden layer \n",
    "dnnModel.add(layers.Dense(30, activation='relu'))\n",
    "\n",
    "# Add dropout of 50% to layer 3\n",
    "dnnModel.add(layers.Dropout(0.5))\n",
    "\n",
    "# Layer 4 = output layer\n",
    "dnnModel.add(layers.Dense(10, activation='softmax'))\n",
    "\n",
    "dnnModel.summary()\n",
    "\n"
   ]
  },
  {
   "cell_type": "markdown",
   "metadata": {},
   "source": [
    "## Regularization and Optimizations of DNN"
   ]
  },
  {
   "cell_type": "code",
   "execution_count": 7,
   "metadata": {},
   "outputs": [],
   "source": [
    "# Configure  the model for training, by using appropriate optimizers and regularizations\n",
    "# Available optimizer: adam, rmsprop, adagrad, sgd\n",
    "# loss:  objective that the model will try to minimize. \n",
    "# Available loss: categorical_crossentropy, binary_crossentropy, mean_squared_error\n",
    "# metrics: List of metrics to be evaluated by the model during training and testing. \n",
    "        \n",
    "dnnModel.compile( optimizer = 'adam', loss = 'categorical_crossentropy', metrics=['accuracy'] )"
   ]
  },
  {
   "cell_type": "markdown",
   "metadata": {},
   "source": [
    "## Train the Model"
   ]
  },
  {
   "cell_type": "code",
   "execution_count": 8,
   "metadata": {},
   "outputs": [
    {
     "name": "stdout",
     "output_type": "stream",
     "text": [
      "Train on 48000 samples, validate on 12000 samples\n",
      "Epoch 1/25\n",
      "48000/48000 [==============================] - 9s 190us/sample - loss: 0.9913 - acc: 0.6656 - val_loss: 0.2651 - val_acc: 0.9284\n",
      "Epoch 2/25\n",
      "48000/48000 [==============================] - 6s 123us/sample - loss: 0.4864 - acc: 0.8617 - val_loss: 0.1975 - val_acc: 0.9455\n",
      "Epoch 3/25\n",
      "48000/48000 [==============================] - 5s 110us/sample - loss: 0.3796 - acc: 0.8939 - val_loss: 0.1698 - val_acc: 0.9542\n",
      "Epoch 4/25\n",
      "48000/48000 [==============================] - 5s 107us/sample - loss: 0.3253 - acc: 0.9108 - val_loss: 0.1580 - val_acc: 0.9572\n",
      "Epoch 5/25\n",
      "48000/48000 [==============================] - 6s 122us/sample - loss: 0.2843 - acc: 0.9222 - val_loss: 0.1542 - val_acc: 0.9600\n",
      "Epoch 6/25\n",
      "48000/48000 [==============================] - 8s 162us/sample - loss: 0.2616 - acc: 0.9283 - val_loss: 0.1567 - val_acc: 0.9601\n",
      "Epoch 7/25\n",
      "48000/48000 [==============================] - 5s 108us/sample - loss: 0.2373 - acc: 0.9342 - val_loss: 0.1555 - val_acc: 0.9629\n",
      "Epoch 8/25\n",
      "48000/48000 [==============================] - 6s 131us/sample - loss: 0.2247 - acc: 0.9381 - val_loss: 0.1557 - val_acc: 0.9635\n",
      "Epoch 9/25\n",
      "48000/48000 [==============================] - 6s 115us/sample - loss: 0.2139 - acc: 0.9413 - val_loss: 0.1433 - val_acc: 0.9640\n",
      "Epoch 10/25\n",
      "48000/48000 [==============================] - 6s 116us/sample - loss: 0.1998 - acc: 0.9431 - val_loss: 0.1456 - val_acc: 0.9657\n",
      "Epoch 11/25\n",
      "48000/48000 [==============================] - 7s 154us/sample - loss: 0.1884 - acc: 0.9458 - val_loss: 0.1522 - val_acc: 0.9644\n",
      "Epoch 12/25\n",
      "48000/48000 [==============================] - 5s 105us/sample - loss: 0.1801 - acc: 0.9487 - val_loss: 0.1557 - val_acc: 0.9641\n",
      "Epoch 13/25\n",
      "48000/48000 [==============================] - 6s 115us/sample - loss: 0.1786 - acc: 0.9486 - val_loss: 0.1514 - val_acc: 0.9657\n",
      "Epoch 14/25\n",
      "48000/48000 [==============================] - 6s 117us/sample - loss: 0.1693 - acc: 0.9516 - val_loss: 0.1552 - val_acc: 0.9659\n",
      "Epoch 15/25\n",
      "48000/48000 [==============================] - 5s 112us/sample - loss: 0.1615 - acc: 0.9530 - val_loss: 0.1623 - val_acc: 0.9658\n",
      "Epoch 16/25\n",
      "48000/48000 [==============================] - 7s 149us/sample - loss: 0.1564 - acc: 0.9554 - val_loss: 0.1660 - val_acc: 0.9666\n",
      "Epoch 17/25\n",
      "48000/48000 [==============================] - 6s 122us/sample - loss: 0.1508 - acc: 0.9556 - val_loss: 0.1836 - val_acc: 0.9661\n",
      "Epoch 18/25\n",
      "48000/48000 [==============================] - 5s 110us/sample - loss: 0.1477 - acc: 0.9581 - val_loss: 0.1738 - val_acc: 0.9663\n",
      "Epoch 19/25\n",
      "48000/48000 [==============================] - 6s 116us/sample - loss: 0.1438 - acc: 0.9583 - val_loss: 0.1829 - val_acc: 0.9653\n",
      "Epoch 20/25\n",
      "48000/48000 [==============================] - 5s 110us/sample - loss: 0.1391 - acc: 0.9591 - val_loss: 0.1728 - val_acc: 0.9660\n",
      "Epoch 21/25\n",
      "48000/48000 [==============================] - 6s 126us/sample - loss: 0.1393 - acc: 0.9597 - val_loss: 0.1820 - val_acc: 0.9653\n",
      "Epoch 22/25\n",
      "48000/48000 [==============================] - 6s 124us/sample - loss: 0.1308 - acc: 0.9603 - val_loss: 0.1677 - val_acc: 0.9677\n",
      "Epoch 23/25\n",
      "48000/48000 [==============================] - 5s 112us/sample - loss: 0.1312 - acc: 0.9615 - val_loss: 0.1681 - val_acc: 0.9682\n",
      "Epoch 24/25\n",
      "48000/48000 [==============================] - 6s 124us/sample - loss: 0.1266 - acc: 0.9621 - val_loss: 0.1798 - val_acc: 0.9672\n",
      "Epoch 25/25\n",
      "48000/48000 [==============================] - 6s 129us/sample - loss: 0.1279 - acc: 0.9630 - val_loss: 0.1721 - val_acc: 0.9669\n"
     ]
    }
   ],
   "source": [
    "# train the model\n",
    "\n",
    "h = dnnModel.fit( Xtrain, Ytrain, validation_split=0.2, epochs=25, batch_size=64)"
   ]
  },
  {
   "cell_type": "code",
   "execution_count": 9,
   "metadata": {},
   "outputs": [
    {
     "name": "stdout",
     "output_type": "stream",
     "text": [
      "Final training loss \t 0.12794746312436958\n",
      "Final training accuracy  0.96302086\n"
     ]
    }
   ],
   "source": [
    "print('Final training loss \\t', h.history['loss'][-1])\n",
    "print('Final training accuracy ', h.history['acc'][-1])"
   ]
  },
  {
   "cell_type": "code",
   "execution_count": 1,
   "metadata": {},
   "outputs": [
    {
     "ename": "NameError",
     "evalue": "name 'h' is not defined",
     "output_type": "error",
     "traceback": [
      "\u001b[0;31m---------------------------------------------------------------------------\u001b[0m",
      "\u001b[0;31mNameError\u001b[0m                                 Traceback (most recent call last)",
      "\u001b[0;32m<ipython-input-1-d14d1529473e>\u001b[0m in \u001b[0;36m<module>\u001b[0;34m\u001b[0m\n\u001b[1;32m      2\u001b[0m \u001b[0;32mimport\u001b[0m \u001b[0mmatplotlib\u001b[0m\u001b[0;34m.\u001b[0m\u001b[0mpyplot\u001b[0m \u001b[0;32mas\u001b[0m \u001b[0mplt\u001b[0m\u001b[0;34m\u001b[0m\u001b[0;34m\u001b[0m\u001b[0m\n\u001b[1;32m      3\u001b[0m \u001b[0;34m\u001b[0m\u001b[0m\n\u001b[0;32m----> 4\u001b[0;31m \u001b[0mplt\u001b[0m\u001b[0;34m.\u001b[0m\u001b[0mplot\u001b[0m\u001b[0;34m(\u001b[0m\u001b[0mh\u001b[0m\u001b[0;34m.\u001b[0m\u001b[0mhistory\u001b[0m\u001b[0;34m[\u001b[0m\u001b[0;34m'acc'\u001b[0m\u001b[0;34m]\u001b[0m\u001b[0;34m,\u001b[0m \u001b[0mlabel\u001b[0m\u001b[0;34m=\u001b[0m\u001b[0;34m'train'\u001b[0m\u001b[0;34m)\u001b[0m\u001b[0;34m\u001b[0m\u001b[0;34m\u001b[0m\u001b[0m\n\u001b[0m\u001b[1;32m      5\u001b[0m \u001b[0mplt\u001b[0m\u001b[0;34m.\u001b[0m\u001b[0mplot\u001b[0m\u001b[0;34m(\u001b[0m\u001b[0mh\u001b[0m\u001b[0;34m.\u001b[0m\u001b[0mhistory\u001b[0m\u001b[0;34m[\u001b[0m\u001b[0;34m'val_acc'\u001b[0m\u001b[0;34m]\u001b[0m\u001b[0;34m,\u001b[0m \u001b[0mlabel\u001b[0m\u001b[0;34m=\u001b[0m\u001b[0;34m'validation'\u001b[0m\u001b[0;34m)\u001b[0m\u001b[0;34m\u001b[0m\u001b[0;34m\u001b[0m\u001b[0m\n\u001b[1;32m      6\u001b[0m \u001b[0mplt\u001b[0m\u001b[0;34m.\u001b[0m\u001b[0mxlabel\u001b[0m\u001b[0;34m(\u001b[0m\u001b[0;34m'Epochs'\u001b[0m\u001b[0;34m)\u001b[0m\u001b[0;34m\u001b[0m\u001b[0;34m\u001b[0m\u001b[0m\n",
      "\u001b[0;31mNameError\u001b[0m: name 'h' is not defined"
     ]
    }
   ],
   "source": [
    "# plot the training  accuracy  \n",
    "import matplotlib.pyplot as plt\n",
    "\n",
    "plt.plot(h.history['acc'], label='train')\n",
    "plt.plot(h.history['val_acc'], label='validation')\n",
    "plt.xlabel('Epochs')\n",
    "plt.ylabel('Accuracy')\n",
    "plt.title('Plot of Accuracy')\n",
    "plt.legend()\n",
    "plt.show()"
   ]
  },
  {
   "cell_type": "code",
   "execution_count": 11,
   "metadata": {},
   "outputs": [
    {
     "data": {
      "image/png": "[encoded data removed]",
      "text/plain": [
       "<Figure size 432x288 with 1 Axes>"
      ]
     },
     "metadata": {
      "needs_background": "light"
     },
     "output_type": "display_data"
    }
   ],
   "source": [
    "# plot the traininig loss \n",
    "\n",
    "\n",
    "plt.plot(h.history['loss'], label='train')\n",
    "plt.plot(h.history['val_loss'], label='validation')\n",
    "plt.xlabel('Epochs')\n",
    "plt.ylabel('Loss')\n",
    "plt.title('Plot of Loss')\n",
    "plt.legend()\n",
    "plt.show()"
   ]
  },
  {
   "cell_type": "markdown",
   "metadata": {},
   "source": [
    "## Testing the Model"
   ]
  },
  {
   "cell_type": "code",
   "execution_count": 12,
   "metadata": {},
   "outputs": [
    {
     "name": "stdout",
     "output_type": "stream",
     "text": [
      "10000/10000 [==============================] - 1s 76us/sample - loss: 0.1736 - acc: 0.9688\n"
     ]
    }
   ],
   "source": [
    "# testing the model\n",
    "\n",
    "testLoss, testAccuracy = dnnModel.evaluate( Xtest, Ytest)"
   ]
  },
  {
   "cell_type": "code",
   "execution_count": 13,
   "metadata": {},
   "outputs": [
    {
     "name": "stdout",
     "output_type": "stream",
     "text": [
      "Testing loss \t 0.17360041036799012\n",
      "Testing accuracy  0.9688\n"
     ]
    }
   ],
   "source": [
    "print('Testing loss \\t', testLoss)\n",
    "print('Testing accuracy ', testAccuracy)"
   ]
  },
  {
   "cell_type": "markdown",
   "metadata": {},
   "source": [
    "Modify the code to get a better testing accuracy.\n",
    "- Change the number of hidden units\n",
    "- Increase the number of hidden layers\n",
    "- Use a different optimizer"
   ]
  }
 ],
 "metadata": {
  "kernelspec": {
   "display_name": "Python 3",
   "language": "python",
   "name": "python3"
  },
  "language_info": {
   "codemirror_mode": {
    "name": "ipython",
    "version": 3
   },
   "file_extension": ".py",
   "mimetype": "text/x-python",
   "name": "python",
   "nbconvert_exporter": "python",
   "pygments_lexer": "ipython3",
   "version": "3.8.5"
  }
 },
 "nbformat": 4,
 "nbformat_minor": 2
}
